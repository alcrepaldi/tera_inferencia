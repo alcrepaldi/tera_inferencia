{
  "cells": [
    {
      "cell_type": "markdown",
      "metadata": {
        "id": "view-in-github",
        "colab_type": "text"
      },
      "source": [
        "<a href=\"https://colab.research.google.com/github/alcrepaldi/tera_inferencia/blob/main/inferencia.ipynb\" target=\"_parent\"><img src=\"https://colab.research.google.com/assets/colab-badge.svg\" alt=\"Open In Colab\"/></a>"
      ]
    },
    {
      "cell_type": "markdown",
      "metadata": {
        "id": "V0I8s1qDt-pE"
      },
      "source": [
        "IMPORTANDO BIBLIOTECAS"
      ]
    },
    {
      "cell_type": "code",
      "execution_count": 1,
      "metadata": {
        "id": "yMeiMJzYt-pJ"
      },
      "outputs": [],
      "source": [
        "import pandas as pd\n",
        "import numpy as np\n",
        "import matplotlib.pyplot as plt\n",
        "import scipy.stats as stats\n",
        "import seaborn as sbn"
      ]
    },
    {
      "cell_type": "markdown",
      "metadata": {
        "id": "1kFMit9nt-pM"
      },
      "source": [
        "IMPORTANDO CSV's"
      ]
    },
    {
      "cell_type": "code",
      "execution_count": 2,
      "metadata": {
        "id": "TRDq1ANht-pN"
      },
      "outputs": [],
      "source": [
        "df_demo = pd.read_csv('DEMO_PHQ.csv', sep=',', encoding='UTF-8')\n",
        "df_hei = pd.read_csv('PAG_HEI.csv', sep=',', encoding='UTF-8')"
      ]
    },
    {
      "cell_type": "markdown",
      "metadata": {
        "id": "2xrw9QObt-pP"
      },
      "source": [
        "COMBINANDO OS DATAFRAMES"
      ]
    },
    {
      "cell_type": "code",
      "execution_count": 3,
      "metadata": {
        "id": "CMvpqcf_t-pQ"
      },
      "outputs": [],
      "source": [
        "df_merger = pd.merge(df_demo, df_hei, on='SEQN')"
      ]
    },
    {
      "cell_type": "markdown",
      "metadata": {
        "id": "w3HyTRp4t-pR"
      },
      "source": [
        "REMOVENDO A COLUNA SEQN"
      ]
    },
    {
      "cell_type": "code",
      "execution_count": 4,
      "metadata": {
        "id": "ER3dKAHut-pT"
      },
      "outputs": [],
      "source": [
        "df_merger.drop(columns='SEQN', axis=1, inplace = True)"
      ]
    },
    {
      "cell_type": "markdown",
      "metadata": {
        "id": "Bj6q1WtPt-pU"
      },
      "source": [
        "ELIMINANDO OS VALORES NULOS"
      ]
    },
    {
      "cell_type": "code",
      "execution_count": 5,
      "metadata": {
        "id": "dBJZ299Pt-pW"
      },
      "outputs": [],
      "source": [
        "df_merger.fillna(0, inplace = True, axis=0)"
      ]
    },
    {
      "cell_type": "markdown",
      "metadata": {
        "id": "DynBp369t-pY"
      },
      "source": [
        "CRIANDO INDICES DPQ"
      ]
    },
    {
      "cell_type": "code",
      "execution_count": 6,
      "metadata": {
        "id": "GYT7Brsit-pZ"
      },
      "outputs": [],
      "source": [
        "DPQ_col = []\n",
        "for i in range(10, 91, 10):\n",
        "    DPQ_col.append(\"DPQ0{}\".format(i))"
      ]
    },
    {
      "cell_type": "markdown",
      "metadata": {
        "id": "ADVl3WyCt-pa"
      },
      "source": [
        "CONTANDO RESPOSTAS 7 E 9"
      ]
    },
    {
      "cell_type": "code",
      "execution_count": 7,
      "metadata": {
        "id": "hrbuxk8Yt-pa"
      },
      "outputs": [],
      "source": [
        "resp_7_9 = {}\n",
        "for col in DPQ_col:\n",
        "    sete = len(df_merger[df_merger[col]== 7])\n",
        "    nove = len(df_merger[df_merger[col]== 9])\n",
        "    resp_7_9[col] = [sete, nove]\n"
      ]
    },
    {
      "cell_type": "markdown",
      "metadata": {
        "id": "1yoLkoO2t-pb"
      },
      "source": [
        "SUBSTITUINDO 7 E 9 POR 0"
      ]
    },
    {
      "cell_type": "code",
      "execution_count": 8,
      "metadata": {
        "id": "axKkOi-ht-pb"
      },
      "outputs": [],
      "source": [
        "for coluna in DPQ_col:\n",
        "    df_merger[coluna] = df_merger[coluna].replace([7,9], 0)"
      ]
    },
    {
      "cell_type": "markdown",
      "metadata": {
        "id": "I5o89zFbt-pc"
      },
      "source": [
        "SOMANDO COLUNAS DPQ"
      ]
    },
    {
      "cell_type": "code",
      "execution_count": 9,
      "metadata": {
        "id": "gDg8JBqXt-pc"
      },
      "outputs": [],
      "source": [
        "df_merger['DPQ_TOTAL'] = df_merger[DPQ_col].sum(axis=1)"
      ]
    },
    {
      "cell_type": "markdown",
      "metadata": {
        "id": "yWB4GGyJt-pd"
      },
      "source": [
        "CLASSIFICANDO DPQ"
      ]
    },
    {
      "cell_type": "code",
      "execution_count": 10,
      "metadata": {
        "id": "kjBLptuKt-pd"
      },
      "outputs": [],
      "source": [
        "df_merger['CLASSIF_DPQ'] = pd.cut(df_merger.DPQ_TOTAL, bins=[0,5,10,15,20,27], labels=[0,1,2,3,4], include_lowest=True)\n"
      ]
    },
    {
      "cell_type": "markdown",
      "metadata": {
        "id": "hxMl-18wt-pe"
      },
      "source": [
        "SEXO X ALIMENTAÇÃO"
      ]
    },
    {
      "cell_type": "code",
      "execution_count": 11,
      "metadata": {
        "colab": {
          "base_uri": "https://localhost:8080/",
          "height": 279
        },
        "id": "GQCo6Sszt-pe",
        "outputId": "371b685e-a850-4741-f546-0f87d9223980"
      },
      "outputs": [
        {
          "output_type": "display_data",
          "data": {
            "image/png": "[encoded data removed]",
            "text/plain": [
              "<Figure size 432x288 with 1 Axes>"
            ]
          },
          "metadata": {
            "needs_background": "light"
          }
        }
      ],
      "source": [
        "sbn.boxplot(\n",
        "    data=df_merger,\n",
        "    x='RIAGENDR',\n",
        "    y='HEI2015_TOTAL_SCORE',\n",
        "    orient='v'\n",
        ")\n",
        "plt.show()"
      ]
    }
  ],
  "metadata": {
    "colab": {
      "collapsed_sections": [],
      "name": "inferencia.ipynb",
      "provenance": [],
      "include_colab_link": true
    },
    "kernelspec": {
      "display_name": "Python 3",
      "name": "python3"
    },
    "language_info": {
      "codemirror_mode": {
        "name": "ipython",
        "version": 3
      },
      "file_extension": ".py",
      "mimetype": "text/x-python",
      "name": "python",
      "nbconvert_exporter": "python",
      "pygments_lexer": "ipython3",
      "version": "3.10.1"
    }
  },
  "nbformat": 4,
  "nbformat_minor": 0
}